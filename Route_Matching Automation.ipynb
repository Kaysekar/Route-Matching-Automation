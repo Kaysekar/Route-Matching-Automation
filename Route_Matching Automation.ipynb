{
 "cells": [
  {
   "cell_type": "code",
   "execution_count": 13,
   "id": "6b9fc1be",
   "metadata": {},
   "outputs": [],
   "source": [
    "import pandas as pd\n",
    "from pathlib import Path\n",
    "import numpy as np"
   ]
  },
  {
   "cell_type": "code",
   "execution_count": 14,
   "id": "94f8a960",
   "metadata": {},
   "outputs": [],
   "source": [
    "pd.read_excel('/Users/karthiksekhar/Desktop/Routing Automation.xlsx')\n",
    "\n",
    "optimo = pd.read_excel('/Users/karthiksekhar/Desktop/Routing Automation.xlsx', sheet_name = 'Optimo')\n",
    "roster = pd.read_excel('/Users/karthiksekhar/Desktop/Routing Automation.xlsx', sheet_name = 'Roster')\n",
    "Airtable = pd.read_excel('/Users/karthiksekhar/Desktop/Routing Automation.xlsx', sheet_name = 'Airtable')"
   ]
  },
  {
   "cell_type": "code",
   "execution_count": 15,
   "id": "c1bb6166",
   "metadata": {},
   "outputs": [
    {
     "data": {
      "text/html": [
       "<div>\n",
       "<style scoped>\n",
       "    .dataframe tbody tr th:only-of-type {\n",
       "        vertical-align: middle;\n",
       "    }\n",
       "\n",
       "    .dataframe tbody tr th {\n",
       "        vertical-align: top;\n",
       "    }\n",
       "\n",
       "    .dataframe thead th {\n",
       "        text-align: right;\n",
       "    }\n",
       "</style>\n",
       "<table border=\"1\" class=\"dataframe\">\n",
       "  <thead>\n",
       "    <tr style=\"text-align: right;\">\n",
       "      <th></th>\n",
       "      <th>Customer</th>\n",
       "      <th>Driver</th>\n",
       "      <th>Arrival Number</th>\n",
       "      <th>Stop Number</th>\n",
       "    </tr>\n",
       "  </thead>\n",
       "  <tbody>\n",
       "    <tr>\n",
       "      <th>0</th>\n",
       "      <td>Laurie Hughes</td>\n",
       "      <td>NaN</td>\n",
       "      <td>NaN</td>\n",
       "      <td>NaN</td>\n",
       "    </tr>\n",
       "    <tr>\n",
       "      <th>1</th>\n",
       "      <td>Elizabeth Deresinski</td>\n",
       "      <td>NaN</td>\n",
       "      <td>NaN</td>\n",
       "      <td>NaN</td>\n",
       "    </tr>\n",
       "    <tr>\n",
       "      <th>2</th>\n",
       "      <td>Josline Ferguson</td>\n",
       "      <td>NaN</td>\n",
       "      <td>NaN</td>\n",
       "      <td>NaN</td>\n",
       "    </tr>\n",
       "    <tr>\n",
       "      <th>3</th>\n",
       "      <td>Robinetta Wheeler</td>\n",
       "      <td>NaN</td>\n",
       "      <td>NaN</td>\n",
       "      <td>NaN</td>\n",
       "    </tr>\n",
       "    <tr>\n",
       "      <th>4</th>\n",
       "      <td>Alex Bankovich</td>\n",
       "      <td>NaN</td>\n",
       "      <td>NaN</td>\n",
       "      <td>NaN</td>\n",
       "    </tr>\n",
       "  </tbody>\n",
       "</table>\n",
       "</div>"
      ],
      "text/plain": [
       "               Customer  Driver  Arrival Number  Stop Number\n",
       "0         Laurie Hughes     NaN             NaN          NaN\n",
       "1  Elizabeth Deresinski     NaN             NaN          NaN\n",
       "2      Josline Ferguson     NaN             NaN          NaN\n",
       "3     Robinetta Wheeler     NaN             NaN          NaN\n",
       "4        Alex Bankovich     NaN             NaN          NaN"
      ]
     },
     "execution_count": 15,
     "metadata": {},
     "output_type": "execute_result"
    }
   ],
   "source": [
    "Airtable.head()"
   ]
  },
  {
   "cell_type": "code",
   "execution_count": 16,
   "id": "19108a23",
   "metadata": {},
   "outputs": [
    {
     "data": {
      "text/html": [
       "<div>\n",
       "<style scoped>\n",
       "    .dataframe tbody tr th:only-of-type {\n",
       "        vertical-align: middle;\n",
       "    }\n",
       "\n",
       "    .dataframe tbody tr th {\n",
       "        vertical-align: top;\n",
       "    }\n",
       "\n",
       "    .dataframe thead th {\n",
       "        text-align: right;\n",
       "    }\n",
       "</style>\n",
       "<table border=\"1\" class=\"dataframe\">\n",
       "  <thead>\n",
       "    <tr style=\"text-align: right;\">\n",
       "      <th></th>\n",
       "      <th>Driver</th>\n",
       "      <th>Order amount</th>\n",
       "      <th>Arrival Number</th>\n",
       "    </tr>\n",
       "  </thead>\n",
       "  <tbody>\n",
       "    <tr>\n",
       "      <th>0</th>\n",
       "      <td>Portobel  - Raul Martinez 1</td>\n",
       "      <td>19</td>\n",
       "      <td>1</td>\n",
       "    </tr>\n",
       "    <tr>\n",
       "      <th>1</th>\n",
       "      <td>Josue Top 1</td>\n",
       "      <td>19</td>\n",
       "      <td>2</td>\n",
       "    </tr>\n",
       "    <tr>\n",
       "      <th>2</th>\n",
       "      <td>Portobel  - Raul Martinez 2</td>\n",
       "      <td>18</td>\n",
       "      <td>3</td>\n",
       "    </tr>\n",
       "    <tr>\n",
       "      <th>3</th>\n",
       "      <td>Ivette Lipets</td>\n",
       "      <td>15</td>\n",
       "      <td>4</td>\n",
       "    </tr>\n",
       "    <tr>\n",
       "      <th>4</th>\n",
       "      <td>Javier Valencia 1</td>\n",
       "      <td>19</td>\n",
       "      <td>5</td>\n",
       "    </tr>\n",
       "  </tbody>\n",
       "</table>\n",
       "</div>"
      ],
      "text/plain": [
       "                        Driver  Order amount  Arrival Number\n",
       "0  Portobel  - Raul Martinez 1            19               1\n",
       "1                  Josue Top 1            19               2\n",
       "2  Portobel  - Raul Martinez 2            18               3\n",
       "3                Ivette Lipets            15               4\n",
       "4            Javier Valencia 1            19               5"
      ]
     },
     "execution_count": 16,
     "metadata": {},
     "output_type": "execute_result"
    }
   ],
   "source": [
    "roster.head()"
   ]
  },
  {
   "cell_type": "code",
   "execution_count": 18,
   "id": "255ed4f2",
   "metadata": {},
   "outputs": [],
   "source": [
    "df1 = pd.merge(optimo, roster, on= \"Driver\")\n",
    "\n",
    "df2 = pd.merge(df1, Airtable, on = \"Customer\")\n",
    "\n",
    "\n"
   ]
  },
  {
   "cell_type": "code",
   "execution_count": 19,
   "id": "b60fe023",
   "metadata": {},
   "outputs": [
    {
     "data": {
      "text/plain": [
       "431"
      ]
     },
     "execution_count": 19,
     "metadata": {},
     "output_type": "execute_result"
    }
   ],
   "source": [
    "len(df1)"
   ]
  },
  {
   "cell_type": "code",
   "execution_count": 20,
   "id": "7698a740",
   "metadata": {},
   "outputs": [
    {
     "data": {
      "text/plain": [
       "431"
      ]
     },
     "execution_count": 20,
     "metadata": {},
     "output_type": "execute_result"
    }
   ],
   "source": [
    "len(Airtable)"
   ]
  },
  {
   "cell_type": "code",
   "execution_count": 21,
   "id": "0867880d",
   "metadata": {},
   "outputs": [],
   "source": [
    "Airtable['Driver'] = df1['Driver'].values\n",
    "Airtable['Arrival Number'] = df1['Arrival Number_x'].values\n",
    "Airtable['Stop Number'] = df1['Stop Number'].values\n",
    "\n"
   ]
  },
  {
   "cell_type": "code",
   "execution_count": 22,
   "id": "959dddbb",
   "metadata": {},
   "outputs": [
    {
     "data": {
      "text/html": [
       "<div>\n",
       "<style scoped>\n",
       "    .dataframe tbody tr th:only-of-type {\n",
       "        vertical-align: middle;\n",
       "    }\n",
       "\n",
       "    .dataframe tbody tr th {\n",
       "        vertical-align: top;\n",
       "    }\n",
       "\n",
       "    .dataframe thead th {\n",
       "        text-align: right;\n",
       "    }\n",
       "</style>\n",
       "<table border=\"1\" class=\"dataframe\">\n",
       "  <thead>\n",
       "    <tr style=\"text-align: right;\">\n",
       "      <th></th>\n",
       "      <th>Customer</th>\n",
       "      <th>Driver</th>\n",
       "      <th>Arrival Number</th>\n",
       "      <th>Stop Number</th>\n",
       "    </tr>\n",
       "  </thead>\n",
       "  <tbody>\n",
       "    <tr>\n",
       "      <th>0</th>\n",
       "      <td>Laurie Hughes</td>\n",
       "      <td>Abel ruiz</td>\n",
       "      <td>45.0</td>\n",
       "      <td>1</td>\n",
       "    </tr>\n",
       "    <tr>\n",
       "      <th>1</th>\n",
       "      <td>Elizabeth Deresinski</td>\n",
       "      <td>Abel ruiz</td>\n",
       "      <td>45.0</td>\n",
       "      <td>2</td>\n",
       "    </tr>\n",
       "    <tr>\n",
       "      <th>2</th>\n",
       "      <td>Josline Ferguson</td>\n",
       "      <td>Abel ruiz</td>\n",
       "      <td>45.0</td>\n",
       "      <td>3</td>\n",
       "    </tr>\n",
       "    <tr>\n",
       "      <th>3</th>\n",
       "      <td>Robinetta Wheeler</td>\n",
       "      <td>Abel ruiz</td>\n",
       "      <td>45.0</td>\n",
       "      <td>4</td>\n",
       "    </tr>\n",
       "    <tr>\n",
       "      <th>4</th>\n",
       "      <td>Alex Bankovich</td>\n",
       "      <td>Abel ruiz</td>\n",
       "      <td>45.0</td>\n",
       "      <td>5</td>\n",
       "    </tr>\n",
       "  </tbody>\n",
       "</table>\n",
       "</div>"
      ],
      "text/plain": [
       "               Customer     Driver  Arrival Number  Stop Number\n",
       "0         Laurie Hughes  Abel ruiz            45.0            1\n",
       "1  Elizabeth Deresinski  Abel ruiz            45.0            2\n",
       "2      Josline Ferguson  Abel ruiz            45.0            3\n",
       "3     Robinetta Wheeler  Abel ruiz            45.0            4\n",
       "4        Alex Bankovich  Abel ruiz            45.0            5"
      ]
     },
     "execution_count": 22,
     "metadata": {},
     "output_type": "execute_result"
    }
   ],
   "source": [
    "Airtable.head()"
   ]
  },
  {
   "cell_type": "code",
   "execution_count": 23,
   "id": "2ee7e5ea",
   "metadata": {},
   "outputs": [],
   "source": [
    "Airtable.to_excel (r'C:\\Users\\Karthik\\Desktop\\Routes_Matched.xlsx', index = False, header=True)"
   ]
  }
 ],
 "metadata": {
  "kernelspec": {
   "display_name": "Python 3 (ipykernel)",
   "language": "python",
   "name": "python3"
  },
  "language_info": {
   "codemirror_mode": {
    "name": "ipython",
    "version": 3
   },
   "file_extension": ".py",
   "mimetype": "text/x-python",
   "name": "python",
   "nbconvert_exporter": "python",
   "pygments_lexer": "ipython3",
   "version": "3.9.7"
  }
 },
 "nbformat": 4,
 "nbformat_minor": 5
}
